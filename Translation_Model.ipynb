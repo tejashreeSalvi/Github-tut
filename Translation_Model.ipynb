{
  "nbformat": 4,
  "nbformat_minor": 0,
  "metadata": {
    "colab": {
      "name": "Translation Model.ipynb",
      "provenance": [],
      "collapsed_sections": [],
      "toc_visible": true,
      "include_colab_link": true
    },
    "kernelspec": {
      "name": "python3",
      "display_name": "Python 3"
    }
  },
  "cells": [
    {
      "cell_type": "markdown",
      "metadata": {
        "id": "view-in-github",
        "colab_type": "text"
      },
      "source": [
        "<a href=\"https://colab.research.google.com/github/tejashreeSalvi/Github-tut/blob/master/Translation_Model.ipynb\" target=\"_parent\"><img src=\"https://colab.research.google.com/assets/colab-badge.svg\" alt=\"Open In Colab\"/></a>"
      ]
    },
    {
      "cell_type": "code",
      "metadata": {
        "id": "2-4ebOtAXFMb",
        "colab_type": "code",
        "colab": {
          "base_uri": "https://localhost:8080/",
          "height": 49
        },
        "outputId": "9d8554ff-9130-4000-dd65-cf21ab01e4f4"
      },
      "source": [
        "!pip install langdetect"
      ],
      "execution_count": null,
      "outputs": [
        {
          "output_type": "stream",
          "text": [
            "Requirement already satisfied: langdetect in /usr/local/lib/python3.6/dist-packages (1.0.8)\n",
            "Requirement already satisfied: six in /usr/local/lib/python3.6/dist-packages (from langdetect) (1.12.0)\n"
          ],
          "name": "stdout"
        }
      ]
    },
    {
      "cell_type": "code",
      "metadata": {
        "id": "d-CcK-V2MbqC",
        "colab_type": "code",
        "colab": {}
      },
      "source": [
        ""
      ],
      "execution_count": null,
      "outputs": []
    },
    {
      "cell_type": "code",
      "metadata": {
        "id": "TsfZiIeVMcMQ",
        "colab_type": "code",
        "colab": {}
      },
      "source": [
        ""
      ],
      "execution_count": null,
      "outputs": []
    },
    {
      "cell_type": "code",
      "metadata": {
        "id": "L8WYjOdrXTp3",
        "colab_type": "code",
        "colab": {
          "base_uri": "https://localhost:8080/",
          "height": 264
        },
        "outputId": "013512b9-fc29-4520-b7d1-f9759f697cdc"
      },
      "source": [
        "!pip install googletrans"
      ],
      "execution_count": null,
      "outputs": [
        {
          "output_type": "stream",
          "text": [
            "Requirement already satisfied: googletrans in /usr/local/lib/python3.6/dist-packages (3.0.0)\n",
            "Requirement already satisfied: httpx==0.13.3 in /usr/local/lib/python3.6/dist-packages (from googletrans) (0.13.3)\n",
            "Requirement already satisfied: hstspreload in /usr/local/lib/python3.6/dist-packages (from httpx==0.13.3->googletrans) (2020.6.23)\n",
            "Requirement already satisfied: httpcore==0.9.* in /usr/local/lib/python3.6/dist-packages (from httpx==0.13.3->googletrans) (0.9.1)\n",
            "Requirement already satisfied: rfc3986<2,>=1.3 in /usr/local/lib/python3.6/dist-packages (from httpx==0.13.3->googletrans) (1.4.0)\n",
            "Requirement already satisfied: certifi in /usr/local/lib/python3.6/dist-packages (from httpx==0.13.3->googletrans) (2020.6.20)\n",
            "Requirement already satisfied: sniffio in /usr/local/lib/python3.6/dist-packages (from httpx==0.13.3->googletrans) (1.1.0)\n",
            "Requirement already satisfied: idna==2.* in /usr/local/lib/python3.6/dist-packages (from httpx==0.13.3->googletrans) (2.9)\n",
            "Requirement already satisfied: chardet==3.* in /usr/local/lib/python3.6/dist-packages (from httpx==0.13.3->googletrans) (3.0.4)\n",
            "Requirement already satisfied: h11<0.10,>=0.8 in /usr/local/lib/python3.6/dist-packages (from httpcore==0.9.*->httpx==0.13.3->googletrans) (0.9.0)\n",
            "Requirement already satisfied: h2==3.* in /usr/local/lib/python3.6/dist-packages (from httpcore==0.9.*->httpx==0.13.3->googletrans) (3.2.0)\n",
            "Requirement already satisfied: contextvars>=2.1; python_version < \"3.7\" in /usr/local/lib/python3.6/dist-packages (from sniffio->httpx==0.13.3->googletrans) (2.4)\n",
            "Requirement already satisfied: hyperframe<6,>=5.2.0 in /usr/local/lib/python3.6/dist-packages (from h2==3.*->httpcore==0.9.*->httpx==0.13.3->googletrans) (5.2.0)\n",
            "Requirement already satisfied: hpack<4,>=3.0 in /usr/local/lib/python3.6/dist-packages (from h2==3.*->httpcore==0.9.*->httpx==0.13.3->googletrans) (3.0.0)\n",
            "Requirement already satisfied: immutables>=0.9 in /usr/local/lib/python3.6/dist-packages (from contextvars>=2.1; python_version < \"3.7\"->sniffio->httpx==0.13.3->googletrans) (0.14)\n"
          ],
          "name": "stdout"
        }
      ]
    },
    {
      "cell_type": "code",
      "metadata": {
        "id": "8IDPCY6VhfAl",
        "colab_type": "code",
        "colab": {}
      },
      "source": [
        "import googletrans"
      ],
      "execution_count": null,
      "outputs": []
    },
    {
      "cell_type": "code",
      "metadata": {
        "id": "IJ1Zq5hyhho7",
        "colab_type": "code",
        "colab": {
          "base_uri": "https://localhost:8080/",
          "height": 66
        },
        "outputId": "a81579cc-5ef8-4daa-b01b-7a10239cbbda"
      },
      "source": [
        "!pip install textblob"
      ],
      "execution_count": null,
      "outputs": [
        {
          "output_type": "stream",
          "text": [
            "Requirement already satisfied: textblob in /usr/local/lib/python3.6/dist-packages (0.15.3)\n",
            "Requirement already satisfied: nltk>=3.1 in /usr/local/lib/python3.6/dist-packages (from textblob) (3.2.5)\n",
            "Requirement already satisfied: six in /usr/local/lib/python3.6/dist-packages (from nltk>=3.1->textblob) (1.12.0)\n"
          ],
          "name": "stdout"
        }
      ]
    },
    {
      "cell_type": "code",
      "metadata": {
        "id": "qSBnXTYZhmgo",
        "colab_type": "code",
        "colab": {}
      },
      "source": [
        "from textblob import TextBlob"
      ],
      "execution_count": null,
      "outputs": []
    },
    {
      "cell_type": "code",
      "metadata": {
        "id": "n7GjK06ZhqGb",
        "colab_type": "code",
        "colab": {}
      },
      "source": [
        "import string"
      ],
      "execution_count": null,
      "outputs": []
    },
    {
      "cell_type": "code",
      "metadata": {
        "id": "Wu_73dS8htVX",
        "colab_type": "code",
        "colab": {}
      },
      "source": [
        "import nltk"
      ],
      "execution_count": null,
      "outputs": []
    },
    {
      "cell_type": "code",
      "metadata": {
        "id": "rGJCa38ZhtD-",
        "colab_type": "code",
        "colab": {}
      },
      "source": [
        "from nltk.tokenize import RegexpTokenizer\n",
        "from nltk.corpus import stopwords"
      ],
      "execution_count": null,
      "outputs": []
    },
    {
      "cell_type": "code",
      "metadata": {
        "id": "HFJzOf1eh6DS",
        "colab_type": "code",
        "colab": {
          "base_uri": "https://localhost:8080/",
          "height": 99
        },
        "outputId": "3efd8834-b85a-4fcd-bbcd-1c484128983c"
      },
      "source": [
        "!pip install spellchecker"
      ],
      "execution_count": null,
      "outputs": [
        {
          "output_type": "stream",
          "text": [
            "Requirement already satisfied: spellchecker in /usr/local/lib/python3.6/dist-packages (0.4)\n",
            "Requirement already satisfied: inexactsearch in /usr/local/lib/python3.6/dist-packages (from spellchecker) (1.0.2)\n",
            "Requirement already satisfied: setuptools in /usr/local/lib/python3.6/dist-packages (from spellchecker) (47.3.1)\n",
            "Requirement already satisfied: soundex>=1.0 in /usr/local/lib/python3.6/dist-packages (from inexactsearch->spellchecker) (1.1.3)\n",
            "Requirement already satisfied: silpa-common>=0.3 in /usr/local/lib/python3.6/dist-packages (from inexactsearch->spellchecker) (0.3)\n"
          ],
          "name": "stdout"
        }
      ]
    },
    {
      "cell_type": "code",
      "metadata": {
        "id": "3JAibddAiAow",
        "colab_type": "code",
        "colab": {
          "base_uri": "https://localhost:8080/",
          "height": 33
        },
        "outputId": "e8c9b083-fc3f-4b58-a0a5-77b1cda203bc"
      },
      "source": [
        "!pip install pyspellchecker"
      ],
      "execution_count": null,
      "outputs": [
        {
          "output_type": "stream",
          "text": [
            "Requirement already satisfied: pyspellchecker in /usr/local/lib/python3.6/dist-packages (0.5.4)\n"
          ],
          "name": "stdout"
        }
      ]
    },
    {
      "cell_type": "code",
      "metadata": {
        "id": "1nYRy0mriQCH",
        "colab_type": "code",
        "colab": {}
      },
      "source": [
        "from spellchecker import SpellChecker"
      ],
      "execution_count": null,
      "outputs": []
    },
    {
      "cell_type": "code",
      "metadata": {
        "id": "HdRxX_Q2mY5M",
        "colab_type": "code",
        "colab": {
          "base_uri": "https://localhost:8080/",
          "height": 528
        },
        "outputId": "e7169126-f866-42d1-c517-14bffebfe079"
      },
      "source": [
        "!sudo apt-get update\n",
        "!apt install -qq enchant --upgrade"
      ],
      "execution_count": null,
      "outputs": [
        {
          "output_type": "stream",
          "text": [
            "\r0% [Working]\r            \rGet:1 http://security.ubuntu.com/ubuntu bionic-security InRelease [88.7 kB]\n",
            "\r0% [Connecting to archive.ubuntu.com (91.189.88.152)] [1 InRelease 14.2 kB/88.7\r                                                                               \rGet:2 https://cloud.r-project.org/bin/linux/ubuntu bionic-cran35/ InRelease [3,626 B]\n",
            "\r0% [Waiting for headers] [1 InRelease 69.2 kB/88.7 kB 78%] [2 InRelease 3,626 B\r0% [Waiting for headers] [1 InRelease 88.7 kB/88.7 kB 100%] [Waiting for header\r                                                                               \r0% [Waiting for headers] [Waiting for headers] [Waiting for headers]\r0% [2 InRelease gpgv 3,626 B] [Waiting for headers] [Waiting for headers] [Wait\r                                                                               \rIgn:3 https://developer.download.nvidia.com/compute/cuda/repos/ubuntu1804/x86_64  InRelease\n",
            "\r                                                                               \r0% [2 InRelease gpgv 3,626 B] [Waiting for headers] [Waiting for headers]\r                                                                         \rGet:4 http://ppa.launchpad.net/graphics-drivers/ppa/ubuntu bionic InRelease [21.3 kB]\n",
            "\r0% [2 InRelease gpgv 3,626 B] [Waiting for headers] [Waiting for headers] [4 In\r                                                                               \rHit:5 http://archive.ubuntu.com/ubuntu bionic InRelease\n",
            "\r0% [2 InRelease gpgv 3,626 B] [Waiting for headers] [Waiting for headers] [4 In\r                                                                               \rIgn:6 https://developer.download.nvidia.com/compute/machine-learning/repos/ubuntu1804/x86_64  InRelease\n",
            "\r0% [2 InRelease gpgv 3,626 B] [Waiting for headers] [4 InRelease 14.2 kB/21.3 k\r                                                                               \rGet:7 https://developer.download.nvidia.com/compute/cuda/repos/ubuntu1804/x86_64  Release [697 B]\n",
            "\r0% [2 InRelease gpgv 3,626 B] [Waiting for headers] [7 Release 697 B/697 B 100%\r0% [2 InRelease gpgv 3,626 B] [Waiting for headers] [4 InRelease 14.2 kB/21.3 k\r                                                                               \rGet:8 https://developer.download.nvidia.com/compute/machine-learning/repos/ubuntu1804/x86_64  Release [564 B]\n",
            "\r0% [2 InRelease gpgv 3,626 B] [Waiting for headers] [8 Release 564 B/564 B 100%\r0% [2 InRelease gpgv 3,626 B] [Waiting for headers] [4 InRelease 14.2 kB/21.3 k\r                                                                               \rGet:9 https://developer.download.nvidia.com/compute/cuda/repos/ubuntu1804/x86_64  Release.gpg [836 B]\n",
            "\r0% [2 InRelease gpgv 3,626 B] [Waiting for headers] [9 Release.gpg 836 B/836 B \r0% [2 InRelease gpgv 3,626 B] [Waiting for headers] [4 InRelease 14.2 kB/21.3 k\r                                                                               \rGet:10 http://archive.ubuntu.com/ubuntu bionic-updates InRelease [88.7 kB]\n",
            "\r0% [2 InRelease gpgv 3,626 B] [10 InRelease 7,434 B/88.7 kB 8%] [Waiting for he\r0% [2 InRelease gpgv 3,626 B] [10 InRelease 13.9 kB/88.7 kB 16%] [Waiting for h\r                                                                               \rGet:11 https://developer.download.nvidia.com/compute/machine-learning/repos/ubuntu1804/x86_64  Release.gpg [833 B]\n",
            "\r0% [2 InRelease gpgv 3,626 B] [10 InRelease 13.9 kB/88.7 kB 16%] [Connecting to\r0% [10 InRelease 13.9 kB/88.7 kB 16%] [Connecting to ppa.launchpad.net (91.189.\r0% [1 InRelease gpgv 88.7 kB] [10 InRelease 13.9 kB/88.7 kB 16%] [Connecting to\r                                                                               \r0% [10 InRelease 42.2 kB/88.7 kB 48%] [Waiting for headers]\r0% [5 InRelease gpgv 242 kB] [10 InRelease 42.2 kB/88.7 kB 48%] [Waiting for he\r                                                                               \rGet:12 http://security.ubuntu.com/ubuntu bionic-security/restricted amd64 Packages [82.2 kB]\n",
            "\r0% [5 InRelease gpgv 242 kB] [10 InRelease 42.2 kB/88.7 kB 48%] [12 Packages 5,\r                                                                               \rGet:13 http://ppa.launchpad.net/marutter/c2d4u3.5/ubuntu bionic InRelease [15.4 kB]\n",
            "\r0% [5 InRelease gpgv 242 kB] [10 InRelease 65.4 kB/88.7 kB 74%] [12 Packages 40\r0% [5 InRelease gpgv 242 kB] [10 InRelease 70.5 kB/88.7 kB 80%] [12 Packages 72\r                                                                               \r0% [5 InRelease gpgv 242 kB] [10 InRelease 79.6 kB/88.7 kB 90%]\r0% [12 Packages store 0 B] [5 InRelease gpgv 242 kB] [10 InRelease 79.6 kB/88.7\r0% [5 InRelease gpgv 242 kB] [10 InRelease 87.3 kB/88.7 kB 98%] [Waiting for he\r                                                                               \r0% [5 InRelease gpgv 242 kB] [Waiting for headers]\r                                                  \rGet:14 http://security.ubuntu.com/ubuntu bionic-security/main amd64 Packages [977 kB]\n",
            "\r0% [5 InRelease gpgv 242 kB] [Waiting for headers] [14 Packages 5,583 B/977 kB \r                                                                               \r0% [Waiting for headers] [14 Packages 145 kB/977 kB 15%]\r0% [9 Release.gpg gpgv 697 B] [Waiting for headers] [14 Packages 145 kB/977 kB \r                                                                               \rGet:15 http://archive.ubuntu.com/ubuntu bionic-backports InRelease [74.6 kB]\n",
            "Get:16 http://security.ubuntu.com/ubuntu bionic-security/universe amd64 Packages [862 kB]\n",
            "Get:17 http://security.ubuntu.com/ubuntu bionic-security/multiverse amd64 Packages [9,012 B]\n",
            "Ign:18 https://developer.download.nvidia.com/compute/cuda/repos/ubuntu1804/x86_64  Packages\n",
            "Get:18 https://developer.download.nvidia.com/compute/cuda/repos/ubuntu1804/x86_64  Packages [185 kB]\n",
            "Get:19 https://developer.download.nvidia.com/compute/machine-learning/repos/ubuntu1804/x86_64  Packages [40.0 kB]\n",
            "Get:20 http://ppa.launchpad.net/graphics-drivers/ppa/ubuntu bionic/main amd64 Packages [37.6 kB]\n",
            "Get:21 http://archive.ubuntu.com/ubuntu bionic-updates/main amd64 Packages [1,270 kB]\n",
            "Get:22 http://ppa.launchpad.net/marutter/c2d4u3.5/ubuntu bionic/main Sources [1,841 kB]\n",
            "Get:23 http://archive.ubuntu.com/ubuntu bionic-updates/multiverse amd64 Packages [13.4 kB]\n",
            "Get:24 http://archive.ubuntu.com/ubuntu bionic-updates/universe amd64 Packages [1,398 kB]\n",
            "Get:25 http://archive.ubuntu.com/ubuntu bionic-updates/restricted amd64 Packages [93.8 kB]\n",
            "Get:26 http://ppa.launchpad.net/marutter/c2d4u3.5/ubuntu bionic/main amd64 Packages [888 kB]\n",
            "Fetched 7,992 kB in 3s (2,653 kB/s)\n",
            "Reading package lists... Done\n",
            "enchant is already the newest version (1.6.0-11.1).\n",
            "0 upgraded, 0 newly installed, 0 to remove and 62 not upgraded.\n"
          ],
          "name": "stdout"
        }
      ]
    },
    {
      "cell_type": "code",
      "metadata": {
        "id": "OYLcs-ETLCZd",
        "colab_type": "code",
        "colab": {
          "base_uri": "https://localhost:8080/",
          "height": 99
        },
        "outputId": "55447d4e-c89b-4faa-ef8f-15ea4d954fe6"
      },
      "source": [
        "!pip install pyenchant --upgrade\n"
      ],
      "execution_count": null,
      "outputs": [
        {
          "output_type": "stream",
          "text": [
            "Collecting pyenchant\n",
            "  Downloading pyenchant-3.1.1-py3-none-any.whl (55 kB)\n",
            "\u001b[?25l\r\u001b[K     |█████▉                          | 10 kB 30.4 MB/s eta 0:00:01\r\u001b[K     |███████████▊                    | 20 kB 2.3 MB/s eta 0:00:01\r\u001b[K     |█████████████████▋              | 30 kB 3.0 MB/s eta 0:00:01\r\u001b[K     |███████████████████████▌        | 40 kB 3.2 MB/s eta 0:00:01\r\u001b[K     |█████████████████████████████▍  | 51 kB 2.6 MB/s eta 0:00:01\r\u001b[K     |████████████████████████████████| 55 kB 1.5 MB/s \n",
            "\u001b[?25hInstalling collected packages: pyenchant\n",
            "Successfully installed pyenchant-3.1.1\n"
          ],
          "name": "stdout"
        }
      ]
    },
    {
      "cell_type": "code",
      "metadata": {
        "id": "16564ADIXCfp",
        "colab_type": "code",
        "colab": {}
      },
      "source": [
        "from langdetect import detect\n",
        "#from nltk.corpus import words\n",
        "import enchant\n",
        "import re\n",
        "from googletrans import Translator\n",
        "from textblob import TextBlob\n",
        "import string\n",
        "import nltk\n",
        "from nltk.tokenize import RegexpTokenizer\n",
        "from nltk.corpus import stopwords\n",
        "from spellchecker import SpellChecker\n",
        "# Added now\n",
        "import http.client\n",
        "import json"
      ],
      "execution_count": null,
      "outputs": []
    },
    {
      "cell_type": "code",
      "metadata": {
        "id": "gvqY8dLNiW-H",
        "colab_type": "code",
        "colab": {}
      },
      "source": [
        "#initializations\n",
        "spell = SpellChecker()\n",
        "\n",
        "translator = Translator()\n",
        "\n",
        "d = enchant.Dict(\"en_US\")"
      ],
      "execution_count": null,
      "outputs": []
    },
    {
      "cell_type": "code",
      "metadata": {
        "id": "78TRkFhilhdi",
        "colab_type": "code",
        "colab": {}
      },
      "source": [
        "#Punctuation Removal functions \n",
        "def Punctuation(string): \n",
        "  \n",
        "    # punctuation marks \n",
        "    punctuations = '''!()-[]{};:'\"\\,<>./?@#$%^&*_~'''\n",
        "  \n",
        "    # traverse the given string and if any punctuation \n",
        "    # marks occur replace it with null \n",
        "    for x in string.lower(): \n",
        "        if x in punctuations: \n",
        "            string = string.replace(x, \"\") \n",
        "  \n",
        "    # Print string without punctuation \n",
        "    print(string)\n",
        "    return string\n"
      ],
      "execution_count": null,
      "outputs": []
    },
    {
      "cell_type": "code",
      "metadata": {
        "id": "rbD7AVGGmp5S",
        "colab_type": "code",
        "colab": {}
      },
      "source": [
        "#Replacint multiple repeating letters by 2 repeating letters \n",
        "def replace(s, list1): \n",
        "    new_str = []\n",
        "    for ch in list1:# itterate = 4\n",
        "        new_str = []\n",
        "        l = len(s) #length of s = 21\n",
        "        for i in range(len(s)):\n",
        "            if (s[i] == ch and i != (l - 1) and\n",
        "                    i != 0 and s[i + 1] != ch and s[i - 1] != ch):\n",
        "                new_str.append(s[i])\n",
        "            # to reduce multiple chars to double\n",
        "            elif s[i] == ch:\n",
        "                if ((i != (l - 1) and s[i + 1] == ch) and\n",
        "                        (i != 0 and s[i - 2] != ch)):\n",
        "                    new_str.append(s[i])\n",
        "            else:\n",
        "                new_str.append(s[i])\n",
        " \n",
        "        s = new_str\n",
        " \n",
        "    return \"\".join(i for i in new_str)"
      ],
      "execution_count": null,
      "outputs": []
    },
    {
      "cell_type": "code",
      "metadata": {
        "id": "ugXk4e7Ump2w",
        "colab_type": "code",
        "colab": {}
      },
      "source": [
        "# Detemining the duplicate letters in words\n",
        "def duplicate(string):\n",
        "    # list to store duplicate characters\n",
        "    list = []\n",
        "    #print(\"Duplicate characters in a given string: \")\n",
        "    # loop counts each character present in the string\n",
        "    for i in range(0, len(string)):\n",
        "        count = 1\n",
        "        for j in range(i + 1, len(string)):\n",
        "            if string[i] == string[j] and string[i] != ' ':\n",
        "                count = count + 1\n",
        "                # Set string[j] to 0 to avoid printing visited character\n",
        "                string = string[:j] + '0' + string[j + 1:]\n",
        "                # A character considered as duplicate if count is greater than 3\n",
        "        if count >= 3 and string[i] != '0':\n",
        "            list.append((string[i]))\n",
        "    if(len(list)==0):\n",
        "        return list\n",
        "    else:\n",
        "        return list\n"
      ],
      "execution_count": null,
      "outputs": []
    },
    {
      "cell_type": "code",
      "metadata": {
        "id": "XcAgcZZjmp0k",
        "colab_type": "code",
        "colab": {}
      },
      "source": [
        "malayalam = 'ml-t-i0-und'\n",
        "hindi = 'hi-t-i0-und'\n",
        "telugu = 'te-t-i0-und'\n",
        "\n",
        "# Analysing the repeated words for english words\n",
        "def reduceRepetition(RefinedStatements):\n",
        "    tempList = re.split('\\s+',RefinedStatements)\n",
        "    reducedString = \"\"\n",
        "    newList = \"\"\n",
        "    tempString = \"\"\n",
        "    for i in range(len(tempList)):\n",
        "        newList = duplicate(tempList[i])\n",
        "        if(len(newList)!=0):\n",
        "            reducedString = replace(tempList[i],newList)\n",
        "#            print('The reduced string is :',reducedString)\n",
        "            #z = translator.translate(reducedString,src = 'en',dest = 'en').text\n",
        "            #z = TextBlob(reducedString)\n",
        "            #z = z.correct()\n",
        "            z = spell.correction(reducedString)\n",
        " #           print('Transliteration : ',z)\n",
        "            if(d.check(z)):\n",
        "                reducedString = z;\n",
        "        else:\n",
        "            reducedString = tempList[i]\n",
        "  #          print('The reduced NON CHANGED string is :',reducedString)\n",
        "        tempString = tempString + reducedString + \" \"\n",
        "    return tempString\n"
      ],
      "execution_count": null,
      "outputs": []
    },
    {
      "cell_type": "code",
      "metadata": {
        "id": "tFGPpR4uH9u8",
        "colab_type": "code",
        "colab": {}
      },
      "source": [
        "def request(input, itc):\n",
        "    conn = http.client.HTTPSConnection('inputtools.google.com')\n",
        "    conn.request('GET', '/request?text=' + input + '&itc=' + itc + '&num=1&cp=0&cs=1&ie=utf-8&oe=utf-8&app=test')\n",
        "    res = conn.getresponse()\n",
        "    return res\n",
        "\n",
        "def driver(input, itc):\n",
        "    output = ''\n",
        "    if ' ' in input:\n",
        "        input = input.split(' ')\n",
        "        for i in input:\n",
        "            res = request(input = i, itc = itc)\n",
        "            res = res.read()\n",
        "            if i==0:\n",
        "                output = str(res, encoding = 'utf-8')[14+4+len(i):-31]\n",
        "            else:\n",
        "                output = output + ' ' + str(res, encoding = 'utf-8')[14+4+len(i):-31]\n",
        "    else:\n",
        "        res = request(input = input, itc = itc)\n",
        "        res = res.read()\n",
        "        output = str(res, encoding = 'utf-8')[14+4+len(input):-31]\n",
        "    return output;"
      ],
      "execution_count": null,
      "outputs": []
    },
    {
      "cell_type": "code",
      "metadata": {
        "id": "Ru1X5XPNmpyI",
        "colab_type": "code",
        "colab": {}
      },
      "source": [
        "# Performs Transliteration and Translation of the statement (root module)\n",
        "def Translation(message):\n",
        "\n",
        "    message = Punctuation(message)\n",
        "\n",
        "    wordList = []\n",
        "    engWordList = []\n",
        "    hindiWordList = []\n",
        "    tempList = []\n",
        "    \n",
        "    englishStatement = \"\"\n",
        "    hindiStatement = \"\"\n",
        "\n",
        "    RefinedStatements = []\n",
        "    finalStatement = \"\"\n",
        "\n",
        "    check = False\n",
        "    type(check)\n",
        "\n",
        "#To remove space if present at teh last of the sentence\n",
        "    if(message[-1]==' '):\n",
        "        message = message[:-1]\n",
        "        \n",
        "#To make the list of all the words in the sentence \n",
        "    wordList = re.split('\\s+',message)\n",
        "    \n",
        "#checking for english and non-english words\n",
        "#Grouping english and non-english statements/words in list \n",
        "    for i in range(len(wordList)):\n",
        "        if(d.check(wordList[i])):\n",
        "            engWordList.append(hindiStatement)          \n",
        "            hindiStatement = \"\"\n",
        "            englishStatement = englishStatement + wordList[i] + \" \"\n",
        "        else:\n",
        "            engWordList.append(englishStatement)\n",
        "            englishStatement = \"\"\n",
        "            hindiStatement = hindiStatement + wordList[i] + \" \"\n",
        "            \n",
        "    engWordList.append(englishStatement)\n",
        "    engWordList.append(hindiStatement)\n",
        "#    print('\\nSorted statements/words are : ',engWordList)\n",
        "\n",
        "#clubing all the sorted statements in refinedStatements List    \n",
        "    for i in range(len(engWordList)):\n",
        "        if(engWordList[i] != \"\"):\n",
        "            RefinedStatements.append(engWordList[i])\n",
        "#    print(RefinedStatements)\n",
        "\n",
        "\n",
        "#Sakshi's model    \n",
        "    for i in range(len(RefinedStatements)):\n",
        "        if(detect(RefinedStatements[i])!='en'):\n",
        "#            print(\"Output from before sakshi's model : \",RefinedStatements[i])\n",
        "            RefinedStatements[i] = reduceRepetition(RefinedStatements[i])\n",
        "#            print(\"Output from sakshi's model : \",RefinedStatements)\n",
        "\n",
        "###################################################################################\n",
        "    \n",
        "    anotherFinalStatement = \"\"\n",
        "    \n",
        "    for i in range(len(RefinedStatements)):\n",
        "        anotherFinalStatement += RefinedStatements[i];\n",
        "    anotherFinalStatement = anotherFinalStatement.replace(\"  \",\" \")\n",
        "    \n",
        "    #To remove space if present at teh last of the sentence\n",
        "    if(anotherFinalStatement[-1]==' '):\n",
        "        anotherFinalStatement = anotherFinalStatement[:-1]\n",
        "\n",
        "    \n",
        "#    print('The Another Final Statement is : |',anotherFinalStatement,'|')\n",
        "    \n",
        "    anotherTempList = re.split('\\s+',anotherFinalStatement)\n",
        "#    print('The Another Temp List is : ',anotherTempList)\n",
        "\n",
        "    hindiStatement = \"\"\n",
        "    englishStatement = \"\"\n",
        "    anotherEngWordList = []\n",
        "\n",
        "    for i in range(len(anotherTempList)):\n",
        "        if(d.check(anotherTempList[i])):\n",
        "            anotherEngWordList.append(hindiStatement)          \n",
        "            hindiStatement = \"\"\n",
        "            englishStatement = englishStatement + anotherTempList[i] + \" \"\n",
        "        else:\n",
        "            anotherEngWordList.append(englishStatement)\n",
        "            englishStatement = \"\"\n",
        "            hindiStatement = hindiStatement + anotherTempList[i] + \" \"\n",
        "            \n",
        "    anotherEngWordList.append(englishStatement)\n",
        "    anotherEngWordList.append(hindiStatement)\n",
        "\n",
        "    anotherRefinedStatements = []\n",
        "\n",
        "    for i in range(len(anotherEngWordList)):\n",
        "        if(anotherEngWordList[i]!= \"\"):\n",
        "            anotherRefinedStatements.append(anotherEngWordList[i])\n",
        "\n",
        "#    print('\\nSorted statements/words are : ',anotherRefinedStatements)\n",
        "        \n",
        "\n",
        "\n",
        "###################################################################################\n",
        "    \n",
        "    \n",
        "#Verifying non-english statements and processing them \n",
        "    for i in range(len(anotherRefinedStatements)):\n",
        "        if(detect(anotherRefinedStatements[i]) != 'en'):\n",
        "#        if(d.check(RefinedStatements[i]) != True):\n",
        "#            print(d.check(RefinedStatements[i]))\n",
        "#            print((translator.detect(RefinedStatements[i])))\n",
        "            \n",
        "            \n",
        "            x = translator.translate(anotherRefinedStatements[i],dest = 'hi').text\n",
        "            y = TextBlob(x)\n",
        "            y = y.translate(to = 'en')\n",
        "            anotherRefinedStatements[i] = (str(y))\n",
        "\n",
        "#concatinating all the refined statements from teh refinedStatements list into finalStatement String variable\n",
        "    for i in range(len(anotherRefinedStatements)):\n",
        "        finalStatement = finalStatement + anotherRefinedStatements[i] + \" \"\n",
        "    print('\\nThe refined statement is : ',finalStatement)\n"
      ],
      "execution_count": 161,
      "outputs": []
    },
    {
      "cell_type": "code",
      "metadata": {
        "id": "dppzVLiwmpvS",
        "colab_type": "code",
        "colab": {
          "base_uri": "https://localhost:8080/",
          "height": 115
        },
        "outputId": "e7bae818-832a-4532-d9c4-aa5cb5f31c52"
      },
      "source": [
        "Translation(\"hhhhhhhheyyyyyyyy hhhhoooooooowwwww are youuuuuuuuu, kaha tha itne dinon se ? I really miss yooooooooou yaar....\")"
      ],
      "execution_count": 162,
      "outputs": [
        {
          "output_type": "stream",
          "text": [
            "hhhhhhhheyyyyyyyy hhhhoooooooowwwww are youuuuuuuuu kaha tha itne dinon se  I really miss yooooooooou yaar\n",
            "Hellloअरे आप कैसे हैं\n",
            "Hellloकहा था इतने दिनों से\n",
            "Hellloयार\n",
            "\n",
            "The refined statement is :  Hey how are you Where were you for so many days I really miss you  close friend \n"
          ],
          "name": "stdout"
        }
      ]
    },
    {
      "cell_type": "code",
      "metadata": {
        "id": "78QtB0ANu5EW",
        "colab_type": "code",
        "colab": {
          "base_uri": "https://localhost:8080/",
          "height": 49
        },
        "outputId": "88347820-a00c-4b80-8199-f0899087e5c3"
      },
      "source": [
        "!pwd\n",
        "!ls"
      ],
      "execution_count": null,
      "outputs": [
        {
          "output_type": "stream",
          "text": [
            "/content\n",
            "sample_data\n"
          ],
          "name": "stdout"
        }
      ]
    },
    {
      "cell_type": "markdown",
      "metadata": {
        "id": "n8GnwPwMutKK",
        "colab_type": "text"
      },
      "source": [
        "# English Sentences Test Cases"
      ]
    },
    {
      "cell_type": "code",
      "metadata": {
        "id": "-SoD-IjaNC_O",
        "colab_type": "code",
        "colab": {
          "base_uri": "https://localhost:8080/",
          "height": 148
        },
        "outputId": "ce26f2a9-dfd2-42e0-be8a-f670d3e4995e"
      },
      "source": [
        "Translation(\"kyaa mujhe phone number mil sakta hai\")\n",
        "print(\"Google Input Tools: \"+driver(\"kyaa mujhe phone number mil sakta hai\", hindi))\n",
        "print(\"Google Translation API Transliteration: \"+translator.translate(\"kyaa mujhe phone number mil sakta hai\",dest=\"hi\").text)\n",
        "print(\"Google Translation:\"+translator.translate(result1, dest=\"en\").text)"
      ],
      "execution_count": 164,
      "outputs": [
        {
          "output_type": "stream",
          "text": [
            "kyaa mujhe phone number mil sakta hai\n",
            "Hellloक्या मुझे\n",
            "Hellloसकता है\n",
            "\n",
            "The refined statement is :  do I phone number mil  Might \n",
            "Google Input Tools:  क्या मुझे फ़ोन नंबर मिल सकता है\n",
            "Google Translation API Transliteration: क्या मुझे फ़ोन नंबर मिल सकता है\n",
            "Google Translation:Can i have a phone number\n"
          ],
          "name": "stdout"
        }
      ]
    },
    {
      "cell_type": "code",
      "metadata": {
        "id": "AwFbLj0CPJv-",
        "colab_type": "code",
        "colab": {
          "base_uri": "https://localhost:8080/",
          "height": 165
        },
        "outputId": "077c49c8-813c-40a1-d326-7dfb3068031f"
      },
      "source": [
        "sentences = \"HHHHOOW mujhe phone number mil sakta hai\"\n",
        "Translation(\"Our Model : \"+sentences)\n",
        "print(\"Google Input Tools: \"+driver(\"kyaa mujhe phone number mil sakta hai\", hindi))\n",
        "\n",
        "print(translator.translate(sentences,dest=\"en\").text)\n",
        "\n",
        "print(\"Google Translation API Transliteration: \"+translator.translate(\"kyaa mujhe phone number mil sakta hai\",dest=\"hi\").text)\n",
        "print(\"Google Translation:\"+translator.translate(translator.translate(\"kyaa mujhe phone number mil sakta hai\",dest=\"hi\").text, dest=\"en\").text)"
      ],
      "execution_count": 95,
      "outputs": [
        {
          "output_type": "stream",
          "text": [
            "Our Model  HHHHOOW mujhe phone number mil sakta hai\n",
            " मुझे \n",
            " सकता है \n",
            "\n",
            "The refined statement is :  Our Model how  me phone number mil  Might \n",
            "Google Input Tools:  क्या मुझे फ़ोन नंबर मिल सकता है\n",
            "Hhhhou can i get the phone number\n",
            "Google Translation API Transliteration: क्या मुझे फ़ोन नंबर मिल सकता है\n",
            "Google Translation:Can i have a phone number\n"
          ],
          "name": "stdout"
        }
      ]
    },
    {
      "cell_type": "code",
      "metadata": {
        "colab_type": "code",
        "id": "IYSLypQWP5ZA",
        "colab": {
          "base_uri": "https://localhost:8080/",
          "height": 181
        },
        "outputId": "0cf63634-b59b-40d5-d523-ec3ad0171028"
      },
      "source": [
        "sentences = \"main north part of town mein cheap restaurant dhund raha hoon\";\n",
        "Translation(sentences);\n",
        "print(\"Google Input Tools: \"+driver(sentences, hindi))\n",
        "print(translator.translate(sentences,dest=\"en\").text)\n",
        "\n",
        "print(\"Google Translation API Transliteration: \"+translator.translate(sentences,dest=\"hi\").text)\n",
        "print(\"Google Translation:\"+translator.translate(translator.translate(sentences,dest=\"hi\").text, dest=\"en\").text)"
      ],
      "execution_count": 92,
      "outputs": [
        {
          "output_type": "stream",
          "text": [
            "main north part of town mein cheap restaurant dhund raha hoon\n",
            " में \n",
            " चीप रेस्टोरेंट \n",
            " ढूंढ रहा हूँ \n",
            "\n",
            "The refined statement is :  main north part of town  In Cheap Restaurant Looking for \n",
            "Google Input Tools:  मैं नार्थ पार्ट ऑफ़ टाउन में चीप रेस्टोरेंट ढूंढ रहा हूँ\n",
            "I'm looking for a cheap restaurant in North Part of Town\n",
            "Google Translation API Transliteration: मैं नार्थ पार्ट ऑफ टाउन में चीप रेस्टोरेंट ढूंढ रहा हूँ\n",
            "Google Translation:I'm looking for a cheap restaurant in North Part of Town\n"
          ],
          "name": "stdout"
        }
      ]
    },
    {
      "cell_type": "code",
      "metadata": {
        "id": "1htcxm3xT-w3",
        "colab_type": "code",
        "colab": {
          "base_uri": "https://localhost:8080/",
          "height": 297
        },
        "outputId": "7409bb10-ba7b-4a3e-870a-ae1ae4db442b"
      },
      "source": [
        "sentences = \"Hello, Cambridge restaurant system mein aapka swagat hai. Aap pa sakte hai restaurant by area, price range ya food type. Aap ko kaise help kar sakta hu main ?\";\n",
        "Translation(sentences);\n",
        "print(\"Google Input Tools: \"+driver(sentences, hindi))\n",
        "\n",
        "print(translator.translate(sentences,dest=\"en\").text)\n",
        "\n",
        "print(\"Google Translation API Transliteration: \"+translator.translate(sentences,dest=\"hi\").text)\n",
        "print(\"Google Translation:\"+translator.translate(translator.translate(sentences,dest=\"hi\").text, dest=\"en\").text)"
      ],
      "execution_count": 91,
      "outputs": [
        {
          "output_type": "stream",
          "text": [
            "Hello Cambridge restaurant system mein aapka swagat hai Aap pa sakte hai restaurant by area price range ya food type Aap ko kaise help kar sakta hu main \n",
            " हेलो कैंब्रिज रेस्टोरेंट सिस्टम \n",
            " में \n",
            " पक \n",
            " स्वागत है आप \n",
            " प् \n",
            " सकते है \n",
            " आप को कैसे \n",
            " हेल्प \n",
            " कर सकता हु \n",
            " मैं \n",
            "\n",
            "The refined statement is :  Hello Cambridge Restaurant System In Puck Welcome you P Can restaurant by area price range ya food type  How to you Help I can do it I am \n",
            "Google Input Tools:  ेलो कैंब्रिज रेस्टोरेंट सिस्टम में आपका स्वागत है. आप प् सकते है रेस्टोरेंट बी रिया प्राइस रेंज या फ़ूड टाइप. आप को कैसे हेल्प कर सकता हु मैं \n",
            "Hello, welcome to the Cambridge restaurant system. You can find restaurant buy area, price range or food type. How can I help you?\n",
            "Google Translation API Transliteration: हेलो, कैंब्रिज रेस्टोरेंट सिस्टम में आपका स्वागत है. आप पा सकते है रेस्टोरेंट बय एरिया, प्राइस रेंज या फ़ूड टाइप. आप को कैसे हेल्प कर सकता हु मैं ?\n",
            "Google Translation:Hello, welcome to the Cambridge restaurant system. You can find restaurant buy area, price range or food type. How can I help you?\n"
          ],
          "name": "stdout"
        }
      ]
    },
    {
      "cell_type": "code",
      "metadata": {
        "colab_type": "code",
        "id": "g-9B7i6NPfvL",
        "colab": {}
      },
      "source": [
        "def readFile(url):\n",
        "    file1 = open(url,'r',encoding='utf-8')\n",
        "    for line in file1:\n",
        "        if not line:\n",
        "            break;\n",
        "        print(Translation(line.strip()))\n",
        "        print(\"Google Input Tools: \"+driver(sentences, hindi))\n",
        "        print(\"Google Translation API Transliteration: \"+translator.translate(sentences,dest=\"hi\").text)\n",
        "        result1 = translator.translate(sentences,dest=\"hi\").text\n",
        "        print(\"Google Translation:\"+translator.translate(result1, dest=\"en\").text)\n"
      ],
      "execution_count": 84,
      "outputs": []
    },
    {
      "cell_type": "code",
      "metadata": {
        "id": "Qnoh8_ORPJl9",
        "colab_type": "code",
        "colab": {
          "base_uri": "https://localhost:8080/",
          "height": 841
        },
        "outputId": "717a6ec4-2640-4c07-f443-73517c50616d"
      },
      "source": [
        "url = '//content//Data//HindiSentences.txt'\n",
        "readFile(url)"
      ],
      "execution_count": 86,
      "outputs": [
        {
          "output_type": "stream",
          "text": [
            "Hi kya tum is restaurant mein ek table book karne mein meri help karoge\n",
            " ही \n",
            " क्या \n",
            " तुम इस रेस्टोरेंट \n",
            " में एक \n",
            " करने में मेरी \n",
            " हेल्प \n",
            " करोगे \n",
            "\n",
            "The refined statement is :  Only what You this restaurant In one table book  In my doing Help Will do \n",
            "None\n",
            "Google Input Tools:  मैं नार्थ पार्ट ऑफ़ टाउन में चीप रेस्टोरेंट ढूंढ रहा हूँ\n",
            "Google Translation API Transliteration: मैं नार्थ पार्ट ऑफ टाउन में चीप रेस्टोरेंट ढूंढ रहा हूँ\n",
            "Google Translation:I'm looking for a cheap restaurant in North Part of Town\n",
            "main north part of town mein cheap restaurant dhund raha hoon\n",
            " में \n",
            " चीप रेस्टोरेंट \n",
            " ढूंढ रहा हूँ \n",
            "\n",
            "The refined statement is :  main north part of town  In Cheap Restaurant Looking for \n",
            "None\n",
            "Google Input Tools:  मैं नार्थ पार्ट ऑफ़ टाउन में चीप रेस्टोरेंट ढूंढ रहा हूँ\n",
            "Google Translation API Transliteration: मैं नार्थ पार्ट ऑफ टाउन में चीप रेस्टोरेंट ढूंढ रहा हूँ\n",
            "Google Translation:I'm looking for a cheap restaurant in North Part of Town\n",
            "kyaa mujhe phone number mil sakta hai\n",
            " क्या मुझे \n",
            " सकता है \n",
            "\n",
            "The refined statement is :  do I phone number mil  Might \n",
            "None\n",
            "Google Input Tools:  मैं नार्थ पार्ट ऑफ़ टाउन में चीप रेस्टोरेंट ढूंढ रहा हूँ\n",
            "Google Translation API Transliteration: मैं नार्थ पार्ट ऑफ टाउन में चीप रेस्टोरेंट ढूंढ रहा हूँ\n",
            "Google Translation:I'm looking for a cheap restaurant in North Part of Town\n",
            "Hello Cambridge restaurant system mein aapka swagat hai Aap pa sakte hai restaurant by area price range ya food type Aap ko kaise help kar sakta hu main \n",
            " हेलो कैंब्रिज रेस्टोरेंट सिस्टम \n",
            " में \n",
            " पक \n",
            " स्वागत है आप \n",
            " प् \n",
            " सकते है \n",
            " आप को कैसे \n",
            " हेल्प \n",
            " कर सकता हु \n",
            " मैं \n",
            "\n",
            "The refined statement is :  Hello Cambridge Restaurant System In Puck Welcome you P Can restaurant by area price range ya food type  How to you Help I can do it I am \n",
            "None\n",
            "Google Input Tools:  मैं नार्थ पार्ट ऑफ़ टाउन में चीप रेस्टोरेंट ढूंढ रहा हूँ\n",
            "Google Translation API Transliteration: मैं नार्थ पार्ट ऑफ टाउन में चीप रेस्टोरेंट ढूंढ रहा हूँ\n",
            "Google Translation:I'm looking for a cheap restaurant in North Part of Town\n"
          ],
          "name": "stdout"
        }
      ]
    },
    {
      "cell_type": "code",
      "metadata": {
        "id": "gkJcO6rCPJfp",
        "colab_type": "code",
        "colab": {
          "base_uri": "https://localhost:8080/",
          "height": 34
        },
        "outputId": "e0d5e0ca-8299-43a5-d37c-0a504f77d502"
      },
      "source": [
        "foo = \"HHoow Aree Yoouuuu\"\n",
        "import itertools\n",
        "''.join(ch for ch, _ in itertools.groupby(foo))\n",
        "\n",
        "\n"
      ],
      "execution_count": 237,
      "outputs": [
        {
          "output_type": "execute_result",
          "data": {
            "application/vnd.google.colaboratory.intrinsic": {
              "type": "string"
            },
            "text/plain": [
              "'How Are You'"
            ]
          },
          "metadata": {
            "tags": []
          },
          "execution_count": 237
        }
      ]
    },
    {
      "cell_type": "code",
      "metadata": {
        "id": "XCdGM0s4PJa1",
        "colab_type": "code",
        "colab": {}
      },
      "source": [
        ""
      ],
      "execution_count": null,
      "outputs": []
    },
    {
      "cell_type": "code",
      "metadata": {
        "id": "f7wf-NiiPJWi",
        "colab_type": "code",
        "colab": {}
      },
      "source": [
        ""
      ],
      "execution_count": null,
      "outputs": []
    },
    {
      "cell_type": "code",
      "metadata": {
        "id": "92RlTJHJPJR6",
        "colab_type": "code",
        "colab": {}
      },
      "source": [
        ""
      ],
      "execution_count": null,
      "outputs": []
    },
    {
      "cell_type": "code",
      "metadata": {
        "id": "vGZ5GBQSPJNr",
        "colab_type": "code",
        "colab": {}
      },
      "source": [
        ""
      ],
      "execution_count": null,
      "outputs": []
    },
    {
      "cell_type": "code",
      "metadata": {
        "id": "sN6YViuhPJJA",
        "colab_type": "code",
        "colab": {}
      },
      "source": [
        ""
      ],
      "execution_count": null,
      "outputs": []
    },
    {
      "cell_type": "code",
      "metadata": {
        "id": "9rMTdG55PJEV",
        "colab_type": "code",
        "colab": {}
      },
      "source": [
        ""
      ],
      "execution_count": null,
      "outputs": []
    },
    {
      "cell_type": "code",
      "metadata": {
        "id": "2f4_Q4uCPI_q",
        "colab_type": "code",
        "colab": {}
      },
      "source": [
        ""
      ],
      "execution_count": null,
      "outputs": []
    },
    {
      "cell_type": "code",
      "metadata": {
        "id": "Q0GvfyzSPI7O",
        "colab_type": "code",
        "colab": {}
      },
      "source": [
        ""
      ],
      "execution_count": null,
      "outputs": []
    },
    {
      "cell_type": "code",
      "metadata": {
        "id": "osMgf9juPI2D",
        "colab_type": "code",
        "colab": {}
      },
      "source": [
        ""
      ],
      "execution_count": null,
      "outputs": []
    },
    {
      "cell_type": "code",
      "metadata": {
        "id": "zr4lmSnnPIt0",
        "colab_type": "code",
        "colab": {}
      },
      "source": [
        ""
      ],
      "execution_count": null,
      "outputs": []
    },
    {
      "cell_type": "code",
      "metadata": {
        "id": "eS1mTzQTPImf",
        "colab_type": "code",
        "colab": {}
      },
      "source": [
        ""
      ],
      "execution_count": null,
      "outputs": []
    },
    {
      "cell_type": "code",
      "metadata": {
        "id": "RwiADVN6PIVn",
        "colab_type": "code",
        "colab": {}
      },
      "source": [
        ""
      ],
      "execution_count": null,
      "outputs": []
    },
    {
      "cell_type": "code",
      "metadata": {
        "id": "g0Cf2W3empqc",
        "colab_type": "code",
        "colab": {
          "base_uri": "https://localhost:8080/",
          "height": 82
        },
        "outputId": "60c1e2fd-cf88-4be4-c68b-ed3bbbb46bd7"
      },
      "source": [
        "Translation(\"Man these #AvengersEndgame ads are everywhere\");"
      ],
      "execution_count": 62,
      "outputs": [
        {
          "output_type": "stream",
          "text": [
            "Man these AvengersEndgame ads are everywhere\n",
            " अवेंजरसेन्द्गाम \n",
            "\n",
            "The refined statement is :  Man these  Avengersendgam ads are everywhere  \n"
          ],
          "name": "stdout"
        }
      ]
    },
    {
      "cell_type": "code",
      "metadata": {
        "id": "U_cINmeKmpnE",
        "colab_type": "code",
        "colab": {}
      },
      "source": [
        "def readFile(url):\n",
        "    file1 = open(url,'r',encoding='utf-8')\n",
        "    for line in file1:\n",
        "        if not line:\n",
        "            break;\n",
        "        print(Translation(line.strip()))"
      ],
      "execution_count": null,
      "outputs": []
    },
    {
      "cell_type": "code",
      "metadata": {
        "id": "4mKd7mCNmpj_",
        "colab_type": "code",
        "colab": {
          "base_uri": "https://localhost:8080/",
          "height": 295
        },
        "outputId": "5de63c14-a064-41c8-db4b-7cc8639eaebd"
      },
      "source": [
        "url = '//content//sample_data//EnglishSentences.txt'\n",
        "readFile(url)"
      ],
      "execution_count": null,
      "outputs": [
        {
          "output_type": "error",
          "ename": "FileNotFoundError",
          "evalue": "ignored",
          "traceback": [
            "\u001b[0;31m---------------------------------------------------------------------------\u001b[0m",
            "\u001b[0;31mFileNotFoundError\u001b[0m                         Traceback (most recent call last)",
            "\u001b[0;32m<ipython-input-61-829f6741f926>\u001b[0m in \u001b[0;36m<module>\u001b[0;34m()\u001b[0m\n\u001b[1;32m      1\u001b[0m \u001b[0murl\u001b[0m \u001b[0;34m=\u001b[0m \u001b[0;34m'//content//sample_data//EnglishSentences.txt'\u001b[0m\u001b[0;34m\u001b[0m\u001b[0;34m\u001b[0m\u001b[0m\n\u001b[0;32m----> 2\u001b[0;31m \u001b[0mreadFile\u001b[0m\u001b[0;34m(\u001b[0m\u001b[0murl\u001b[0m\u001b[0;34m)\u001b[0m\u001b[0;34m\u001b[0m\u001b[0;34m\u001b[0m\u001b[0m\n\u001b[0m",
            "\u001b[0;32m<ipython-input-57-3d24169c8250>\u001b[0m in \u001b[0;36mreadFile\u001b[0;34m(url)\u001b[0m\n\u001b[1;32m      1\u001b[0m \u001b[0;32mdef\u001b[0m \u001b[0mreadFile\u001b[0m\u001b[0;34m(\u001b[0m\u001b[0murl\u001b[0m\u001b[0;34m)\u001b[0m\u001b[0;34m:\u001b[0m\u001b[0;34m\u001b[0m\u001b[0;34m\u001b[0m\u001b[0m\n\u001b[0;32m----> 2\u001b[0;31m     \u001b[0mfile1\u001b[0m \u001b[0;34m=\u001b[0m \u001b[0mopen\u001b[0m\u001b[0;34m(\u001b[0m\u001b[0murl\u001b[0m\u001b[0;34m,\u001b[0m\u001b[0;34m'r'\u001b[0m\u001b[0;34m,\u001b[0m\u001b[0mencoding\u001b[0m\u001b[0;34m=\u001b[0m\u001b[0;34m'utf-8'\u001b[0m\u001b[0;34m)\u001b[0m\u001b[0;34m\u001b[0m\u001b[0;34m\u001b[0m\u001b[0m\n\u001b[0m\u001b[1;32m      3\u001b[0m     \u001b[0;32mfor\u001b[0m \u001b[0mline\u001b[0m \u001b[0;32min\u001b[0m \u001b[0mfile1\u001b[0m\u001b[0;34m:\u001b[0m\u001b[0;34m\u001b[0m\u001b[0;34m\u001b[0m\u001b[0m\n\u001b[1;32m      4\u001b[0m         \u001b[0;32mif\u001b[0m \u001b[0;32mnot\u001b[0m \u001b[0mline\u001b[0m\u001b[0;34m:\u001b[0m\u001b[0;34m\u001b[0m\u001b[0;34m\u001b[0m\u001b[0m\n\u001b[1;32m      5\u001b[0m             \u001b[0;32mbreak\u001b[0m\u001b[0;34m;\u001b[0m\u001b[0;34m\u001b[0m\u001b[0;34m\u001b[0m\u001b[0m\n",
            "\u001b[0;31mFileNotFoundError\u001b[0m: [Errno 2] No such file or directory: '//content//sample_data//EnglishSentences.txt'"
          ]
        }
      ]
    },
    {
      "cell_type": "markdown",
      "metadata": {
        "id": "hF7nlSS_Plh9",
        "colab_type": "text"
      },
      "source": [
        "# Error in English Sentences"
      ]
    },
    {
      "cell_type": "code",
      "metadata": {
        "id": "MgBdvFonmphk",
        "colab_type": "code",
        "colab": {}
      },
      "source": [
        "Translation(\"Man these #AvengersEndgame ads are everywhere\")"
      ],
      "execution_count": null,
      "outputs": []
    },
    {
      "cell_type": "code",
      "metadata": {
        "id": "YL1-clyHmper",
        "colab_type": "code",
        "colab": {}
      },
      "source": [
        "Translation(\"•\t#AAPL I think it will be valued at 140-145s at next year.Death of Steve Jobs damaged #Samsung more than Apple +\")"
      ],
      "execution_count": null,
      "outputs": []
    },
    {
      "cell_type": "code",
      "metadata": {
        "id": "BRsOUtuGmpcY",
        "colab_type": "code",
        "colab": {}
      },
      "source": [
        "Translation(\"yea let me just pay 600 dollars for phone so it dies at 30% fix your shit @apple\")"
      ],
      "execution_count": null,
      "outputs": []
    },
    {
      "cell_type": "code",
      "metadata": {
        "id": "EB5Dd770mpXo",
        "colab_type": "code",
        "colab": {}
      },
      "source": [
        "Translation(\"wtf is my conputer doing I left it alone for five minutes and it does this?? help @apple @billgates http://t.co/KTmXOrp03w\")"
      ],
      "execution_count": null,
      "outputs": []
    },
    {
      "cell_type": "code",
      "metadata": {
        "id": "5QPoBBCcmpSj",
        "colab_type": "code",
        "colab": {}
      },
      "source": [
        "Translation(\"The two works in our free #DuccioCaro exhibition play with space, movement, and architect... http://t.co/wdV2lzmgLu via @NationalGallery\")"
      ],
      "execution_count": null,
      "outputs": []
    },
    {
      "cell_type": "code",
      "metadata": {
        "id": "4jkr2qOBmpLO",
        "colab_type": "code",
        "colab": {}
      },
      "source": [
        "Translation(\"restaurant alimentum is a nice restaurant in the south of town serving modern european food.\")"
      ],
      "execution_count": null,
      "outputs": []
    },
    {
      "cell_type": "markdown",
      "metadata": {
        "id": "_LL8YfNaSBd1",
        "colab_type": "text"
      },
      "source": [
        "# Hindi - English Sentences"
      ]
    },
    {
      "cell_type": "code",
      "metadata": {
        "id": "8NUTb-NeTJ6w",
        "colab_type": "code",
        "colab": {}
      },
      "source": [
        "url = '//content//sample_data//Hindi-English.txt'\n",
        "readFile(url)"
      ],
      "execution_count": null,
      "outputs": []
    },
    {
      "cell_type": "code",
      "metadata": {
        "id": "JpiEmP1nTJ3Q",
        "colab_type": "code",
        "colab": {}
      },
      "source": [
        ""
      ],
      "execution_count": null,
      "outputs": []
    },
    {
      "cell_type": "markdown",
      "metadata": {
        "id": "OxOx52HWS_H7",
        "colab_type": "text"
      },
      "source": [
        "# Error in Hindi-English Sentences"
      ]
    },
    {
      "cell_type": "markdown",
      "metadata": {
        "id": "h0Yzu1ewT9Lh",
        "colab_type": "text"
      },
      "source": [
        "Invalid Translation"
      ]
    },
    {
      "cell_type": "code",
      "metadata": {
        "id": "2bxUbWkamo_t",
        "colab_type": "code",
        "colab": {}
      },
      "source": [
        "Translation(\"Hi, kya tum is restaurant mein ek table book karne mein meri help karoge?\")"
      ],
      "execution_count": null,
      "outputs": []
    },
    {
      "cell_type": "code",
      "metadata": {
        "id": "8i_U0VpmWEyj",
        "colab_type": "code",
        "colab": {}
      },
      "source": [
        "Translation(\"main north part of town mein cheap restaurant dhund raha hoon\");"
      ],
      "execution_count": null,
      "outputs": []
    },
    {
      "cell_type": "code",
      "metadata": {
        "id": "4zO6Kz4UcDGO",
        "colab_type": "code",
        "colab": {}
      },
      "source": [
        "Translation(\"kyaa mujhe phone number mil sakta hai\")"
      ],
      "execution_count": null,
      "outputs": []
    },
    {
      "cell_type": "markdown",
      "metadata": {
        "id": "qIgvIELwaXMS",
        "colab_type": "text"
      },
      "source": [
        "# Google Translation Output"
      ]
    },
    {
      "cell_type": "markdown",
      "metadata": {
        "id": "YBtOJeeJajOz",
        "colab_type": "text"
      },
      "source": [
        "Output\n",
        "*  north of town me royal spice ek achaa jagah hai aur prices cheap hai\n",
        "-*main north part of town  In Cheap restaurants Looking for  \n",
        "--Royal Spice is a low point in the north of town and is a Presence Cheap.\n",
        "---\n",
        "* Hi, kya tum is restaurant mein ek table book karne mein meri help karoge?\n",
        "-*Only what Tumor Restaurant In one Table book In my doing help Will do \n",
        "--Hi, would you help me book a table in this restaurant?\n",
        "\n",
        "\n",
        "---\n",
        "\n",
        "\n",
        "*  kyaa mujhe phone number mil sakta hai\n",
        "- -Can i have a phone numbe\n",
        "---\n",
        "\n",
        "\n",
        "*   List item\n",
        "\n",
        "\n"
      ]
    },
    {
      "cell_type": "markdown",
      "metadata": {
        "id": "y6YXZUw-UCbT",
        "colab_type": "text"
      },
      "source": [
        "Exception"
      ]
    },
    {
      "cell_type": "code",
      "metadata": {
        "id": "wt3TBy2qddjX",
        "colab_type": "code",
        "colab": {}
      },
      "source": [
        ""
      ],
      "execution_count": null,
      "outputs": []
    },
    {
      "cell_type": "code",
      "metadata": {
        "id": "oUBzXjpFmoyM",
        "colab_type": "code",
        "colab": {}
      },
      "source": [
        "Translation(\"@ Hi, kya tum is restaurant mein ek table book karne mein meri help karoge?\");"
      ],
      "execution_count": null,
      "outputs": []
    },
    {
      "cell_type": "code",
      "metadata": {
        "id": "Z2tIvd46moTL",
        "colab_type": "code",
        "colab": {
          "base_uri": "https://localhost:8080/",
          "height": 231
        },
        "outputId": "6e630f31-51c7-4d79-ae05-b90798145466"
      },
      "source": [
        "Translation(\"Hello, Cambridge restaurant system mein aapka swagat hai. Aap pa sakte hai restaurant by area, price range ya food type. Aap ko kaise help kar sakta hu main ?\")"
      ],
      "execution_count": 97,
      "outputs": [
        {
          "output_type": "stream",
          "text": [
            "Hello Cambridge restaurant system mein aapka swagat hai Aap pa sakte hai restaurant by area price range ya food type Aap ko kaise help kar sakta hu main \n",
            " हेलो कैंब्रिज रेस्टोरेंट सिस्टम \n",
            " में \n",
            " पक \n",
            " स्वागत है आप \n",
            " प् \n",
            " सकते है \n",
            " आप को कैसे \n",
            " हेल्प \n",
            " कर सकता हु \n",
            " मैं \n",
            "\n",
            "The refined statement is :  Hello Cambridge Restaurant System In Puck Welcome you P Can restaurant by area price range ya food type  How to you Help I can do it I am \n"
          ],
          "name": "stdout"
        }
      ]
    },
    {
      "cell_type": "code",
      "metadata": {
        "id": "ktau6r4GlhOp",
        "colab_type": "code",
        "colab": {
          "base_uri": "https://localhost:8080/",
          "height": 33
        },
        "outputId": "4d7b71d8-7d26-4de5-b7a9-65f27ae70609"
      },
      "source": [
        ""
      ],
      "execution_count": 96,
      "outputs": [
        {
          "output_type": "stream",
          "text": [
            "{\"message\":\"You are not subscribed to this API.\"}\n"
          ],
          "name": "stdout"
        }
      ]
    },
    {
      "cell_type": "markdown",
      "metadata": {
        "id": "EPPQ1bzQcGN7",
        "colab_type": "text"
      },
      "source": [
        "# Python SpellChecker"
      ]
    },
    {
      "cell_type": "code",
      "metadata": {
        "id": "BcIQeUjlcLhk",
        "colab_type": "code",
        "colab": {
          "base_uri": "https://localhost:8080/",
          "height": 33
        },
        "outputId": "3018ba84-233b-4b53-824f-4ce87effa801"
      },
      "source": [
        "!pip install pyspellchecker"
      ],
      "execution_count": 98,
      "outputs": [
        {
          "output_type": "stream",
          "text": [
            "Requirement already satisfied: pyspellchecker in /usr/local/lib/python3.6/dist-packages (0.5.4)\n"
          ],
          "name": "stdout"
        }
      ]
    },
    {
      "cell_type": "code",
      "metadata": {
        "id": "4GbzQQqPflQB",
        "colab_type": "code",
        "colab": {}
      },
      "source": [
        "def convert(lst): \n",
        "    return ' '.join(lst).split() "
      ],
      "execution_count": 134,
      "outputs": []
    },
    {
      "cell_type": "code",
      "metadata": {
        "id": "Kk76Pbd0cLeO",
        "colab_type": "code",
        "colab": {
          "base_uri": "https://localhost:8080/",
          "height": 1000
        },
        "outputId": "e176b916-6f05-4897-be0e-8b9daf394ff3"
      },
      "source": [
        "from spellchecker import SpellChecker\n",
        "spell = SpellChecker()\n",
        "\n",
        "sentences =  \"Happpiee hhhhoooooooowwwww are youuuuuuuuu, kaha tha itne dinon se ? I really miss yooooooooou yaar....\"\n",
        "sentences = ''.join(ch for ch, _ in itertools.groupby(sentences))\n",
        "\n",
        "\n",
        "lst2 = convert([sentences])\n",
        "List = [];\n",
        "print(lst2)\n",
        "for word in lst2:\n",
        "    print(\"\\n\")\n",
        "    print(word)\n",
        "    print(translator.detect(word))\n",
        "    if((translator.detect(word).confidence) >= 0.90 and (translator.detect(word).lang) == 'en'):\n",
        "        word = spell.correction(word);\n",
        "        print(\"Spelling Correction:\"+word);\n",
        "    List.append(word)\n",
        "\n",
        "listToStr = ' '.join(map(str, List)) \n",
        "\n",
        "print(List)\n",
        "print(listToStr)\n",
        "print(translator.detect(listToStr))\n",
        "\n",
        "# convert into destination languages.\n",
        "hindiString = translator.translate(listToStr,dest=translator.detect(listToStr).lang).text\n",
        "translator.translate(hindiString, dest=\"en\").text"
      ],
      "execution_count": 240,
      "outputs": [
        {
          "output_type": "stream",
          "text": [
            "['Hapie', 'how', 'are', 'you,', 'kaha', 'tha', 'itne', 'dinon', 'se', '?', 'I', 'realy', 'mis', 'you', 'yar.']\n",
            "\n",
            "\n",
            "Hapie\n",
            "Detected(lang=gu, confidence=0.16858225)\n",
            "\n",
            "\n",
            "how\n",
            "Detected(lang=en, confidence=0.9635417)\n",
            "Spelling Correction:how\n",
            "\n",
            "\n",
            "are\n",
            "Detected(lang=en, confidence=1.0)\n",
            "Spelling Correction:are\n",
            "\n",
            "\n",
            "you,\n",
            "Detected(lang=en, confidence=0.9427083)\n",
            "Spelling Correction:you\n",
            "\n",
            "\n",
            "kaha\n",
            "Detected(lang=hi, confidence=1.0)\n",
            "\n",
            "\n",
            "tha\n",
            "Detected(lang=el, confidence=0.859375)\n",
            "\n",
            "\n",
            "itne\n",
            "Detected(lang=sv, confidence=0.8171206)\n",
            "\n",
            "\n",
            "dinon\n",
            "Detected(lang=hi, confidence=1.0)\n",
            "\n",
            "\n",
            "se\n",
            "Detected(lang=es, confidence=0.21538459)\n",
            "\n",
            "\n",
            "?\n",
            "Detected(lang=en, confidence=0.0)\n",
            "\n",
            "\n",
            "I\n",
            "Detected(lang=en, confidence=0.77154034)\n",
            "\n",
            "\n",
            "realy\n",
            "Detected(lang=en, confidence=1.0)\n",
            "Spelling Correction:really\n",
            "\n",
            "\n",
            "mis\n",
            "Detected(lang=et, confidence=0.57587546)\n",
            "\n",
            "\n",
            "you\n",
            "Detected(lang=en, confidence=0.9427083)\n",
            "Spelling Correction:you\n",
            "\n",
            "\n",
            "yar.\n",
            "Detected(lang=tr, confidence=0.42471045)\n",
            "['Hapie', 'how', 'are', 'you', 'kaha', 'tha', 'itne', 'dinon', 'se', '?', 'I', 'really', 'mis', 'you', 'yar.']\n",
            "Hapie how are you kaha tha itne dinon se ? I really mis you yar.\n",
            "Detected(lang=hi, confidence=0.93287987)\n"
          ],
          "name": "stdout"
        },
        {
          "output_type": "execute_result",
          "data": {
            "application/vnd.google.colaboratory.intrinsic": {
              "type": "string"
            },
            "text/plain": [
              "'Where have you been for so many days? Mr. Really Miss You.'"
            ]
          },
          "metadata": {
            "tags": []
          },
          "execution_count": 240
        }
      ]
    },
    {
      "cell_type": "code",
      "metadata": {
        "id": "6YGmy7YtcuuW",
        "colab_type": "code",
        "colab": {
          "base_uri": "https://localhost:8080/",
          "height": 181
        },
        "outputId": "9d5b273c-815f-45ef-e659-9488046fc664"
      },
      "source": [
        "pip install autocorrect"
      ],
      "execution_count": 111,
      "outputs": [
        {
          "output_type": "stream",
          "text": [
            "Collecting autocorrect\n",
            "  Downloading autocorrect-2.0.0.tar.gz (1.8 MB)\n",
            "\u001b[K     |████████████████████████████████| 1.8 MB 3.5 MB/s \n",
            "\u001b[?25hBuilding wheels for collected packages: autocorrect\n",
            "  Building wheel for autocorrect (setup.py) ... \u001b[?25l\u001b[?25hdone\n",
            "  Created wheel for autocorrect: filename=autocorrect-2.0.0-py3-none-any.whl size=1811635 sha256=33cddc0dfe83362b3de897dd3145d6899a2669b374d51b69d5d78553e5f4d27b\n",
            "  Stored in directory: /root/.cache/pip/wheels/07/32/c7/bf76be67c5a3fddfaa465174f4e3b6aedcd0e29a932b22aefb\n",
            "Successfully built autocorrect\n",
            "Installing collected packages: autocorrect\n",
            "Successfully installed autocorrect-2.0.0\n"
          ],
          "name": "stdout"
        }
      ]
    },
    {
      "cell_type": "code",
      "metadata": {
        "id": "bqGNyaKJcueq",
        "colab_type": "code",
        "colab": {
          "base_uri": "https://localhost:8080/",
          "height": 34
        },
        "outputId": "585afcfd-4a4a-4926-d842-f3e99bcab40b"
      },
      "source": [
        "from autocorrect import Speller\n",
        "spell = Speller()\n",
        "spell(\"Man\")"
      ],
      "execution_count": 121,
      "outputs": [
        {
          "output_type": "execute_result",
          "data": {
            "application/vnd.google.colaboratory.intrinsic": {
              "type": "string"
            },
            "text/plain": [
              "'Man'"
            ]
          },
          "metadata": {
            "tags": []
          },
          "execution_count": 121
        }
      ]
    }
  ]
}